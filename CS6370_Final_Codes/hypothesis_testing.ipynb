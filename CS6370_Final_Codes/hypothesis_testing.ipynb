{
 "cells": [
  {
   "cell_type": "code",
   "execution_count": 10,
   "metadata": {},
   "outputs": [],
   "source": [
    "import scipy.stats as stats\n",
    "import math\n",
    "import numpy as np"
   ]
  },
  {
   "cell_type": "code",
   "execution_count": 11,
   "metadata": {},
   "outputs": [],
   "source": [
    "alpha = 0.05\n",
    "# An algorithm A1 is better than A2 with respect to the evaluation measure E in task T on a specific domain D under certain assumptions A. "
   ]
  },
  {
   "cell_type": "code",
   "execution_count": 12,
   "metadata": {},
   "outputs": [],
   "source": [
    "def P_Values(list1, list2):\n",
    "    t_statistic, p_value = stats.ttest_rel(list1, list2)\n",
    "    temp = p_value\n",
    "    t_statistic, p_value = stats.ttest_rel(list2, list1)\n",
    "    return p_value"
   ]
  },
  {
   "cell_type": "code",
   "execution_count": 13,
   "metadata": {},
   "outputs": [
    {
     "name": "stdout",
     "output_type": "stream",
     "text": [
      "p Value obtained for hypothesis \n",
      " VSM with Query Expansion is not significantly better than VSM with respect to evaluation measure nDCG in Information Retrieval on Cranfield Domain under Bag of Words assumption \n",
      " is 0.020106609010377117\n",
      "Rejected - VSM with Query Expansion is not significantly better than VSM with respect to evaluation measure nDCG in Information Retrieval on Cranfield Domain under Bag of Words assumption \n"
     ]
    }
   ],
   "source": [
    "null_hypothesis = \"VSM with Query Expansion is not significantly better than VSM with respect to evaluation measure nDCG in Information Retrieval on Cranfield Dataset under Bag of Words assumption\"\n",
    "nDCG_VSM = np.array([0.511, 0.474, 0.450, 0.435, 0.428, 0.430, 0.434, 0.442, 0.445, 0.448])\n",
    "nDCG_VSM_QE = np.array([0.504, 0.470, 0.448, 0.436, 0.431, 0.430, 0.430, 0.435, 0.440, 0.442])\n",
    "\n",
    "p_value = P_Values(nDCG_VSM, nDCG_VSM_QE)\n",
    "print(f\"p Value obtained for hypothesis \\n {null_hypothesis} \\nis {p_value}\")\n",
    "if p_value <= alpha:\n",
    "    print(f\"Rejected - {null_hypothesis} \")\n",
    "else:\n",
    "    print(f\"Can not reject  - {null_hypothesis}\")\n"
   ]
  },
  {
   "cell_type": "code",
   "execution_count": 14,
   "metadata": {},
   "outputs": [
    {
     "name": "stdout",
     "output_type": "stream",
     "text": [
      "p Value obtained for hypothesis \n",
      " VSM is not significantly better than LSA with respect to evaluation measure nDCG in Information Retrieval on Cranfield Dataset under Bag of Words assumption \n",
      " is 0.00012786222039214433\n",
      "Rejected - VSM is not significantly better than LSA with respect to evaluation measure nDCG in Information Retrieval on Cranfield Dataset under Bag of Words assumption \n"
     ]
    }
   ],
   "source": [
    "null_hypothesis = \"VSM is not significantly better than LSA with respect to evaluation measure nDCG in Information Retrieval on Cranfield Dataset under Bag of Words assumption\"\n",
    "nDCG_LSA = np.array([0.509, 0.481, 0.459, 0.447, 0.441, 0.447, 0.451, 0.455, 0.458, 0.462])\n",
    "nDCG_VSM = np.array([0.511, 0.474, 0.450, 0.435, 0.428, 0.430, 0.434, 0.442, 0.445, 0.448])\n",
    "\n",
    "p_value = P_Values(nDCG_VSM, nDCG_LSA)\n",
    "print(f\"p Value obtained for hypothesis \\n {null_hypothesis} \\nis {p_value}\")\n",
    "if p_value <= alpha:\n",
    "    print(f\"Rejected - {null_hypothesis} \")\n",
    "else:\n",
    "    print(f\"Can not reject  - {null_hypothesis}\")\n"
   ]
  },
  {
   "cell_type": "code",
   "execution_count": 15,
   "metadata": {},
   "outputs": [
    {
     "name": "stdout",
     "output_type": "stream",
     "text": [
      "p Value obtained for hypothesis \n",
      " LSA with Query Expansion is not significantly better than LSA with respect to evaluation measure nDCG in Information Retrieval on Cranfield Dataset under Bag of Words assumption \n",
      " is 4.843265742438945e-05\n",
      "Rejected - LSA with Query Expansion is not significantly better than LSA with respect to evaluation measure nDCG in Information Retrieval on Cranfield Dataset under Bag of Words assumption \n"
     ]
    }
   ],
   "source": [
    "null_hypothesis = \"LSA with Query Expansion is not significantly better than LSA with respect to evaluation measure nDCG in Information Retrieval on Cranfield Dataset under Bag of Words assumption\"\n",
    "nDCG_LSA = np.array([0.509, 0.481, 0.459, 0.447, 0.441, 0.447, 0.451, 0.455, 0.458, 0.462])\n",
    "nDCG_LSA_QE = np.array([0.510, 0.467, 0.438, 0.431, 0.429, 0.431, 0.432, 0.436, 0.446, 0.449])\n",
    "\n",
    "p_value = P_Values(nDCG_LSA_QE, nDCG_LSA)\n",
    "print(f\"p Value obtained for hypothesis \\n {null_hypothesis} \\nis {p_value}\")\n",
    "if p_value <= alpha:\n",
    "    print(f\"Rejected - {null_hypothesis} \")\n",
    "else:\n",
    "    print(f\"Can not reject  - {null_hypothesis}\")"
   ]
  },
  {
   "cell_type": "code",
   "execution_count": 17,
   "metadata": {},
   "outputs": [
    {
     "name": "stdout",
     "output_type": "stream",
     "text": [
      "p Value obtained for hypothesis \n",
      " Normalized LSA is not significantly better than LSA with respect to evaluation measure nDCG in Information Retrieval on Cranfield Dataset under Bag of Words assumption \n",
      "is 7.832998575149795e-09\n",
      "Rejected - Normalized LSA is not significantly better than LSA with respect to evaluation measure nDCG in Information Retrieval on Cranfield Dataset under Bag of Words assumption \n"
     ]
    }
   ],
   "source": [
    "null_hypothesis = \"Normalized LSA is not significantly better than LSA with respect to evaluation measure nDCG in Information Retrieval on Cranfield Dataset under Bag of Words assumption\"\n",
    "nDCG_LSA = np.array([0.509, 0.481, 0.459, 0.447, 0.441, 0.447, 0.451, 0.455, 0.458, 0.462])\n",
    "nDCG_nLSA = np.array([0.553, 0.524, 0.494, 0.486, 0.483, 0.482, 0.482, 0.485, 0.489, 0.492])\n",
    "\n",
    "p_value = P_Values(nDCG_nLSA, nDCG_LSA)\n",
    "print(f\"p Value obtained for hypothesis \\n {null_hypothesis} \\nis {p_value}\")\n",
    "if p_value <= alpha:\n",
    "    print(f\"Rejected - {null_hypothesis} \")\n",
    "else:\n",
    "    print(f\"Can not reject  - {null_hypothesis}\")"
   ]
  },
  {
   "cell_type": "code",
   "execution_count": 21,
   "metadata": {},
   "outputs": [
    {
     "name": "stdout",
     "output_type": "stream",
     "text": [
      "p Value obtained for hypothesis \n",
      " LSA is not significantly better than LSA Hybrid with respect to evaluation measure nDCG in Information Retrieval on Cranfield Dataset under Bag of Words assumption \n",
      "is 0.23665583547711766\n",
      "Can not reject  - LSA is not significantly better than LSA Hybrid with respect to evaluation measure nDCG in Information Retrieval on Cranfield Dataset under Bag of Words assumption\n"
     ]
    }
   ],
   "source": [
    "null_hypothesis = \"LSA is not significantly better than LSA Hybrid with respect to evaluation measure nDCG in Information Retrieval on Cranfield Dataset under Bag of Words assumption\"\n",
    "nDCG_LSA = np.array([0.509, 0.481, 0.459, 0.447, 0.441, 0.447, 0.451, 0.455, 0.458, 0.462])\n",
    "nDCG_LSA_Hybrid = np.array([0.503, 0.477, 0.462, 0.455, 0.445, 0.445, 0.445, 0.449, 0.451, 0.457])\n",
    "\n",
    "p_value = P_Values(nDCG_LSA, nDCG_LSA_Hybrid)\n",
    "print(f\"p Value obtained for hypothesis \\n {null_hypothesis} \\nis {p_value}\")\n",
    "if p_value <= alpha:\n",
    "    print(f\"Rejected - {null_hypothesis} \")\n",
    "else:\n",
    "    print(f\"Can not reject  - {null_hypothesis}\")"
   ]
  },
  {
   "cell_type": "code",
   "execution_count": 19,
   "metadata": {},
   "outputs": [
    {
     "name": "stdout",
     "output_type": "stream",
     "text": [
      "p Value obtained for hypothesis \n",
      " biGram IR is not significantly better than triGram IR with respect to evaluation measure nDCG in Information Retrieval on Cranfield Dataset under Bag of Words assumption \n",
      "is 3.5411538392378175e-12\n",
      "Rejected - biGram IR is not significantly better than triGram IR with respect to evaluation measure nDCG in Information Retrieval on Cranfield Dataset under Bag of Words assumption \n"
     ]
    }
   ],
   "source": [
    "null_hypothesis = \"biGram IR is not significantly better than triGram IR with respect to evaluation measure nDCG in Information Retrieval on Cranfield Dataset under Bag of Words assumption\"\n",
    "nDCG_biGram = np.array([0.451, 0.411, 0.384, 0.375, 0.369, 0.369, 0.367, 0.366, 0.364, 0.370])\n",
    "nDCG_triGram = np.array([0.317, 0.279, 0.254, 0.237, 0.227, 0.221, 0.217, 0.215, 0.213, 0.213])\n",
    "\n",
    "p_value = P_Values(nDCG_biGram, nDCG_triGram)\n",
    "print(f\"p Value obtained for hypothesis \\n {null_hypothesis} \\nis {p_value}\")\n",
    "if p_value <= alpha:\n",
    "    print(f\"Rejected - {null_hypothesis} \")\n",
    "else:\n",
    "    print(f\"Can not reject  - {null_hypothesis}\")"
   ]
  },
  {
   "cell_type": "code",
   "execution_count": 20,
   "metadata": {},
   "outputs": [
    {
     "name": "stdout",
     "output_type": "stream",
     "text": [
      "p Value obtained for hypothesis \n",
      " VSM is not significantly better than nGramIR with respect to evaluation measure nDCG in Information Retrieval on Cranfield Dataset under Bag of Words assumption \n",
      "is 9.8063155877797e-10\n",
      "Rejected - VSM is not significantly better than nGramIR with respect to evaluation measure nDCG in Information Retrieval on Cranfield Dataset under Bag of Words assumption \n"
     ]
    }
   ],
   "source": [
    "null_hypothesis = \"VSM is not significantly better than nGramIR with respect to evaluation measure nDCG in Information Retrieval on Cranfield Dataset under Bag of Words assumption\"\n",
    "nDCG_VSM = np.array([0.511, 0.474, 0.450, 0.435, 0.428, 0.430, 0.434, 0.442, 0.445, 0.448])\n",
    "nDCG_nGram = np.array([0.451, 0.411, 0.384, 0.375, 0.369, 0.369, 0.367, 0.366, 0.364, 0.370])\n",
    "\n",
    "p_value = P_Values(nDCG_VSM, nDCG_nGram)\n",
    "print(f\"p Value obtained for hypothesis \\n {null_hypothesis} \\nis {p_value}\")\n",
    "if p_value <= alpha:\n",
    "    print(f\"Rejected - {null_hypothesis} \")\n",
    "else:\n",
    "    print(f\"Can not reject  - {null_hypothesis}\")"
   ]
  },
  {
   "cell_type": "code",
   "execution_count": null,
   "metadata": {},
   "outputs": [],
   "source": []
  }
 ],
 "metadata": {
  "kernelspec": {
   "display_name": "Python 3",
   "language": "python",
   "name": "python3"
  },
  "language_info": {
   "codemirror_mode": {
    "name": "ipython",
    "version": 3
   },
   "file_extension": ".py",
   "mimetype": "text/x-python",
   "name": "python",
   "nbconvert_exporter": "python",
   "pygments_lexer": "ipython3",
   "version": "3.10.12"
  }
 },
 "nbformat": 4,
 "nbformat_minor": 2
}
